{
 "cells": [
  {
   "cell_type": "code",
   "execution_count": null,
   "metadata": {},
   "outputs": [],
   "source": []
  },
  {
   "cell_type": "code",
   "execution_count": null,
   "metadata": {},
   "outputs": [],
   "source": [
    "import pandas as pd\n",
    "\n",
    "df = pd.read_csv(\"E:\\\\论文最终提交的图片数据\\\\图\\\\数据准备\\\\model1-loss-train-dayu3.5.csv\")\n",
    "column_values = df[\"true_value\"]\n",
    "\n",
    "total_count = len(column_values)\n",
    "\n",
    "interval = 0.5\n",
    "min_value = 1.0\n",
    "max_value = 6.0\n",
    "interval_counts = {i: {\"middle\": 0, \"above\": 0, \"below\": 0} for i in range(int(min_value // interval), int(max_value // interval) + 1)}\n",
    "\n",
    "for value, prediction in zip(column_values, df[\"predictive_value\"]):\n",
    "    if min_value <= value <= max_value:\n",
    "        interval_index = int(value // interval)\n",
    "        if prediction == value:\n",
    "            interval_counts[interval_index][\"middle\"] += 1\n",
    "        elif prediction > value:\n",
    "            interval_counts[interval_index][\"above\"] += 1\n",
    "        else:\n",
    "            interval_counts[interval_index][\"below\"] += 1\n",
    "\n",
    "for key, value in interval_counts.items():\n",
    "    print(f\"区间[{key * interval}, {(key + 1) * interval}): 对角线中间 = {value['middle']}, 对角线上面 = {value['above']}, 对角线下面 = {value['below']},差值 = {value['above']-value['below']}\")\n"
   ]
  }
 ],
 "metadata": {
  "language_info": {
   "name": "python"
  }
 },
 "nbformat": 4,
 "nbformat_minor": 2
}
